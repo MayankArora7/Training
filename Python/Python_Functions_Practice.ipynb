{
 "cells": [
  {
   "cell_type": "markdown",
   "id": "fddf2e95",
   "metadata": {},
   "source": [
    "#### 1. Write a Python function to find the Max of three numbers."
   ]
  },
  {
   "cell_type": "code",
   "execution_count": 1,
   "id": "e1340f5d",
   "metadata": {},
   "outputs": [
    {
     "name": "stdout",
     "output_type": "stream",
     "text": [
      "Enter first number: 97\n",
      "Enter second number: 82\n",
      "Enter third number: 99\n",
      "Max of 3 numbers: 99\n"
     ]
    }
   ],
   "source": [
    "def max_three_numbers(n1, n2, n3):\n",
    "    return max(n1, n2, n3)\n",
    "\n",
    "n1 = int(input(\"Enter first number: \"))\n",
    "n2 = int(input(\"Enter second number: \"))\n",
    "n3 = int(input(\"Enter third number: \"))\n",
    "\n",
    "print(\"Max of 3 numbers:\", max(n1, n2, n3))"
   ]
  },
  {
   "cell_type": "markdown",
   "id": "459acc29",
   "metadata": {},
   "source": [
    "#### 2. Write a Python function to sum all the numbers in a list. \n",
    "#### Sample List : (8, 2, 3, 0, 7)"
   ]
  },
  {
   "cell_type": "code",
   "execution_count": 2,
   "id": "46283769",
   "metadata": {},
   "outputs": [
    {
     "name": "stdout",
     "output_type": "stream",
     "text": [
      "Number of elements to input: 5\n",
      "Enter element: 8\n",
      "Enter element: 2\n",
      "Enter element: 3\n",
      "Enter element: 0\n",
      "Enter element: 7\n"
     ]
    },
    {
     "data": {
      "text/plain": [
       "20"
      ]
     },
     "execution_count": 2,
     "metadata": {},
     "output_type": "execute_result"
    }
   ],
   "source": [
    "def add(ls):\n",
    "    return sum(ls)\n",
    "\n",
    "n = int(input(\"Number of elements to input: \"))\n",
    "ls = []\n",
    "\n",
    "for i in range(0, n):\n",
    "    ls.append(int(input(\"Enter element: \")))\n",
    "    \n",
    "add(ls)"
   ]
  },
  {
   "cell_type": "markdown",
   "id": "24f5bc42",
   "metadata": {},
   "source": [
    "#### 3. Write a Python function to multiply all the numbers in a list.\n",
    "#### Sample List : (8, 2, 3, -1, 7)"
   ]
  },
  {
   "cell_type": "code",
   "execution_count": 3,
   "id": "3d3dde31",
   "metadata": {},
   "outputs": [
    {
     "name": "stdout",
     "output_type": "stream",
     "text": [
      "Number of elements to input: 5\n",
      "Enter element: 8\n",
      "Enter element: 2\n",
      "Enter element: 3\n",
      "Enter element: -1\n",
      "Enter element: 7\n"
     ]
    },
    {
     "data": {
      "text/plain": [
       "-336"
      ]
     },
     "execution_count": 3,
     "metadata": {},
     "output_type": "execute_result"
    }
   ],
   "source": [
    "def multiplication(ls):\n",
    "    result = 1\n",
    "    for i in ls:\n",
    "        result *= i\n",
    "    return result\n",
    "\n",
    "n = int(input(\"Number of elements to input: \"))\n",
    "ls = []\n",
    "\n",
    "for i in range(0, n):\n",
    "    ls.append(int(input(\"Enter element: \")))\n",
    "\n",
    "multiplication(ls)"
   ]
  },
  {
   "cell_type": "markdown",
   "id": "7f6aa1da",
   "metadata": {},
   "source": [
    "#### 4. Write a Python program to reverse a string.\n",
    "#### Sample String : \"1234abcd\""
   ]
  },
  {
   "cell_type": "code",
   "execution_count": 4,
   "id": "d2a897d7",
   "metadata": {},
   "outputs": [
    {
     "name": "stdout",
     "output_type": "stream",
     "text": [
      "Enter a string: 1234abcd\n"
     ]
    },
    {
     "data": {
      "text/plain": [
       "'dcba4321'"
      ]
     },
     "execution_count": 4,
     "metadata": {},
     "output_type": "execute_result"
    }
   ],
   "source": [
    "def reverse_string(string):\n",
    "    return string[::-1]\n",
    "\n",
    "string = input(\"Enter a string: \")\n",
    "reverse_string(string)"
   ]
  },
  {
   "cell_type": "markdown",
   "id": "8206b33b",
   "metadata": {},
   "source": [
    "#### 5. Write a Python function to calculate the factorial of a number (a non-negative integer). The function accepts the number as an argument."
   ]
  },
  {
   "cell_type": "code",
   "execution_count": 5,
   "id": "23abcfb8",
   "metadata": {},
   "outputs": [
    {
     "name": "stdout",
     "output_type": "stream",
     "text": [
      "Enter a number: 7\n"
     ]
    },
    {
     "data": {
      "text/plain": [
       "5040"
      ]
     },
     "execution_count": 5,
     "metadata": {},
     "output_type": "execute_result"
    }
   ],
   "source": [
    "def factorial(n):\n",
    "    for i in range(n-1, 0, -1):\n",
    "        n *= i\n",
    "    return n\n",
    "\n",
    "n = int(input(\"Enter a number: \"))\n",
    "factorial(n)"
   ]
  },
  {
   "cell_type": "markdown",
   "id": "c9f99a92",
   "metadata": {},
   "source": [
    "#### 6. Write a Python function to check whether a number falls in a given range"
   ]
  },
  {
   "cell_type": "code",
   "execution_count": 6,
   "id": "34d020af",
   "metadata": {},
   "outputs": [
    {
     "name": "stdout",
     "output_type": "stream",
     "text": [
      "Enter a number: 7\n",
      "Enter starting point for range (included): 3\n",
      "Enter ending point for range (included): 7\n",
      "Number falls in given range\n"
     ]
    }
   ],
   "source": [
    "def number_in_given_range(n, range_start, range_end):\n",
    "    if n in range(range_start, range_end + 1):\n",
    "        return True\n",
    "    else:\n",
    "        return False\n",
    "    \n",
    "n = int(input(\"Enter a number: \"))\n",
    "range_start = int(input(\"Enter starting point for range (included): \"))\n",
    "range_end = int(input(\"Enter ending point for range (included): \"))\n",
    "\n",
    "if number_in_given_range(n, range_start, range_end):\n",
    "    print(\"Number falls in given range\")\n",
    "else:\n",
    "    print(\"Number does not fall in given range\")"
   ]
  },
  {
   "cell_type": "markdown",
   "id": "1169a109",
   "metadata": {},
   "source": [
    "#### 7. Write a Python program to print the even numbers from a given list."
   ]
  },
  {
   "cell_type": "code",
   "execution_count": 7,
   "id": "30d4a65d",
   "metadata": {},
   "outputs": [
    {
     "name": "stdout",
     "output_type": "stream",
     "text": [
      "Number of elements to input: 5\n",
      "Enter element: 8\n",
      "Enter element: 7\n",
      "Enter element: 99\n",
      "Enter element: 100\n",
      "Enter element: 45\n",
      "Even numbers: [8, 100]\n"
     ]
    }
   ],
   "source": [
    "def print_even_numbers(ls):\n",
    "    even = []\n",
    "    for i in ls:\n",
    "        if i % 2 == 0:\n",
    "            even.append(i)\n",
    "    return even\n",
    "\n",
    "n = int(input(\"Number of elements to input: \"))\n",
    "ls = []\n",
    "\n",
    "for i in range(0, n):\n",
    "    ls.append(int(input(\"Enter element: \")))\n",
    "\n",
    "print(\"Even numbers:\", print_even_numbers(ls))"
   ]
  }
 ],
 "metadata": {
  "kernelspec": {
   "display_name": "Python 3 (ipykernel)",
   "language": "python",
   "name": "python3"
  },
  "language_info": {
   "codemirror_mode": {
    "name": "ipython",
    "version": 3
   },
   "file_extension": ".py",
   "mimetype": "text/x-python",
   "name": "python",
   "nbconvert_exporter": "python",
   "pygments_lexer": "ipython3",
   "version": "3.8.8"
  }
 },
 "nbformat": 4,
 "nbformat_minor": 5
}

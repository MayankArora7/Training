{
 "cells": [
  {
   "cell_type": "markdown",
   "id": "afdb7357",
   "metadata": {},
   "source": [
    "### Datatype"
   ]
  },
  {
   "cell_type": "code",
   "execution_count": 1,
   "id": "a6f5fbd9",
   "metadata": {},
   "outputs": [
    {
     "name": "stdout",
     "output_type": "stream",
     "text": [
      "10 3.142 (6+10j)\n"
     ]
    }
   ],
   "source": [
    "# Numeric Datatype\n",
    "\n",
    "# Integer\n",
    "a = 10\n",
    "\n",
    "# Float\n",
    "b = 3.142\n",
    "\n",
    "# Complex (a + bi where 'a' and 'b' are floats)\n",
    "c = 6 + 10j\n",
    "print(a, b, c)"
   ]
  },
  {
   "cell_type": "code",
   "execution_count": 2,
   "id": "694ffeab",
   "metadata": {},
   "outputs": [
    {
     "name": "stdout",
     "output_type": "stream",
     "text": [
      "3 10.0 (6+10j)\n"
     ]
    }
   ],
   "source": [
    "# Type Conversion\n",
    "\n",
    "print(int(b), float(a), str(c))"
   ]
  },
  {
   "cell_type": "code",
   "execution_count": 3,
   "id": "8b2742ef",
   "metadata": {},
   "outputs": [
    {
     "name": "stdout",
     "output_type": "stream",
     "text": [
      "['3', '10.26', 'cherry']\n"
     ]
    }
   ],
   "source": [
    "# List (Mutable)\n",
    "\n",
    "my_list = [\"3\", \"10.26\", \"cherry\"]\n",
    "print(my_list)"
   ]
  },
  {
   "cell_type": "code",
   "execution_count": 4,
   "id": "d6fca638",
   "metadata": {},
   "outputs": [
    {
     "name": "stdout",
     "output_type": "stream",
     "text": [
      "('3', '10.26', 'cherry')\n"
     ]
    }
   ],
   "source": [
    "# Tuples (Immutable)\n",
    "\n",
    "my_tuple = (\"3\", \"10.26\", \"cherry\")\n",
    "print(my_tuple)"
   ]
  },
  {
   "cell_type": "code",
   "execution_count": 5,
   "id": "194e2d7f",
   "metadata": {},
   "outputs": [
    {
     "name": "stdout",
     "output_type": "stream",
     "text": [
      "{'brand': 'Ford', 'model': 'Mustang', 'Year': '2022'}\n"
     ]
    }
   ],
   "source": [
    "# Dictionary (Mutable -> Values can be changed, Keys connot be changed)\n",
    "\n",
    "my_dict = {\n",
    "    \"brand\": \"Ford\",\n",
    "    \"model\": \"Mustang\",\n",
    "    \"Year\": \"2022\"\n",
    "}\n",
    "\n",
    "print(my_dict)"
   ]
  },
  {
   "cell_type": "code",
   "execution_count": 6,
   "id": "e164289e",
   "metadata": {},
   "outputs": [
    {
     "name": "stdout",
     "output_type": "stream",
     "text": [
      "{1, 2, 3, 4} {3, 4, 5, 6}\n"
     ]
    }
   ],
   "source": [
    "# Sets\n",
    "# Does not support duplicates\n",
    "\n",
    "a = {1, 2, 3, 4, 4, 4}\n",
    "b = {3, 4, 5, 6}\n",
    "\n",
    "print(a, b)"
   ]
  },
  {
   "cell_type": "markdown",
   "id": "140fb232",
   "metadata": {},
   "source": [
    "### Operators"
   ]
  },
  {
   "cell_type": "code",
   "execution_count": 7,
   "id": "486527cf",
   "metadata": {},
   "outputs": [
    {
     "name": "stdout",
     "output_type": "stream",
     "text": [
      "17\n",
      "13\n",
      "30\n",
      "7.5\n",
      "1\n",
      "225\n",
      "7\n"
     ]
    }
   ],
   "source": [
    "# Arithmetic Operators\n",
    "\n",
    "x = 15\n",
    "y = 2\n",
    "\n",
    "# Addition\n",
    "print(x + y)\n",
    "\n",
    "# Subtraction\n",
    "print(x - y)\n",
    "\n",
    "# Multiplication\n",
    "print(x * y)\n",
    "\n",
    "# Division\n",
    "print(x / y)\n",
    "\n",
    "# Modulus\n",
    "print(x % y)\n",
    "\n",
    "# Exponential\n",
    "print(x ** y)\n",
    "\n",
    "# Floor Division\n",
    "print(x // y)"
   ]
  },
  {
   "cell_type": "code",
   "execution_count": 8,
   "id": "b8bd9556",
   "metadata": {},
   "outputs": [
    {
     "name": "stdout",
     "output_type": "stream",
     "text": [
      "2\n",
      "4\n",
      "1\n",
      "3\n",
      "1.0\n",
      "1.0\n",
      "1.0\n",
      "0.0\n"
     ]
    }
   ],
   "source": [
    "# Assignment Operators\n",
    "\n",
    "x = 2\n",
    "print(x)\n",
    "\n",
    "x += 2\n",
    "print(x)\n",
    "\n",
    "x -= 3\n",
    "print(x)\n",
    "\n",
    "x *= 3\n",
    "print(x)\n",
    "\n",
    "x /= 3\n",
    "print(x)\n",
    "\n",
    "x %= 3\n",
    "print(x)\n",
    "\n",
    "x **= 3\n",
    "print(x)\n",
    "\n",
    "x //= 3\n",
    "print(x)"
   ]
  },
  {
   "cell_type": "code",
   "execution_count": 9,
   "id": "e3615d92",
   "metadata": {},
   "outputs": [
    {
     "name": "stdout",
     "output_type": "stream",
     "text": [
      "False\n",
      "True\n",
      "False\n",
      "True\n",
      "False\n",
      "True\n"
     ]
    }
   ],
   "source": [
    "# Comparison Operators\n",
    "\n",
    "x = 5\n",
    "y = 3\n",
    "\n",
    "print(x == y)\n",
    "print(x != y)\n",
    "print(x <= y)\n",
    "print(x >= y)\n",
    "print(x < y)\n",
    "print(x > y)"
   ]
  },
  {
   "cell_type": "code",
   "execution_count": 10,
   "id": "ea7d1b79",
   "metadata": {},
   "outputs": [
    {
     "name": "stdout",
     "output_type": "stream",
     "text": [
      "True\n",
      "False\n",
      "True\n"
     ]
    }
   ],
   "source": [
    "# Identity Operators\n",
    "\n",
    "x = [\"white\", \"black\"]\n",
    "y = [\"white\", \"black\"]\n",
    "\n",
    "z = x\n",
    "\n",
    "# x and z have same memory location\n",
    "print(x is z)\n",
    "print(x is y)\n",
    "print(x == y)"
   ]
  },
  {
   "cell_type": "code",
   "execution_count": 11,
   "id": "81bae941",
   "metadata": {},
   "outputs": [
    {
     "name": "stdout",
     "output_type": "stream",
     "text": [
      "True\n",
      "True\n",
      "False\n"
     ]
    }
   ],
   "source": [
    "# Membership Operators\n",
    "\n",
    "x = [\"white\", \"black\"]\n",
    "print(\"white\" in x)\n",
    "print(\"red\" not in x)\n",
    "print(\"red\" in x)"
   ]
  },
  {
   "cell_type": "markdown",
   "id": "b3f259bc",
   "metadata": {},
   "source": [
    "### Loops"
   ]
  },
  {
   "cell_type": "code",
   "execution_count": 12,
   "id": "287ac644",
   "metadata": {},
   "outputs": [
    {
     "name": "stdout",
     "output_type": "stream",
     "text": [
      "1\n",
      "2\n",
      "3\n"
     ]
    }
   ],
   "source": [
    "# while Loop\n",
    "\n",
    "i = 1\n",
    "while i < 6:\n",
    "    print(i)\n",
    "    if i == 3:\n",
    "#       break\n",
    "        break\n",
    "    i += 1"
   ]
  },
  {
   "cell_type": "code",
   "execution_count": 13,
   "id": "2bb58aec",
   "metadata": {},
   "outputs": [
    {
     "name": "stdout",
     "output_type": "stream",
     "text": [
      "1\n",
      "2\n",
      "4\n",
      "5\n",
      "6\n"
     ]
    }
   ],
   "source": [
    "# continue\n",
    "\n",
    "i = 0\n",
    "while i < 6:\n",
    "    i += 1\n",
    "    if i == 3:\n",
    "        continue\n",
    "    print(i)"
   ]
  },
  {
   "cell_type": "code",
   "execution_count": 14,
   "id": "e6580972",
   "metadata": {},
   "outputs": [
    {
     "name": "stdout",
     "output_type": "stream",
     "text": [
      "white\n",
      "black\n",
      "red\n"
     ]
    }
   ],
   "source": [
    "# for Loop\n",
    "\n",
    "colors = [\"white\", \"black\", \"red\"]\n",
    "for x in colors:\n",
    "    print(x)"
   ]
  },
  {
   "cell_type": "code",
   "execution_count": 15,
   "id": "1a59e1e0",
   "metadata": {},
   "outputs": [
    {
     "name": "stdout",
     "output_type": "stream",
     "text": [
      "m\n",
      "a\n",
      "y\n",
      "a\n",
      "n\n",
      "k\n"
     ]
    }
   ],
   "source": [
    "# Strings are Iterable\n",
    "\n",
    "for y in \"mayank\":\n",
    "    print(y)"
   ]
  },
  {
   "cell_type": "code",
   "execution_count": 16,
   "id": "0a74bcb5",
   "metadata": {},
   "outputs": [
    {
     "name": "stdout",
     "output_type": "stream",
     "text": [
      "white\n",
      "black\n"
     ]
    }
   ],
   "source": [
    "# break (for loop)\n",
    "\n",
    "colors = [\"white\", \"black\", \"red\"]\n",
    "for x in colors:\n",
    "    print(x)\n",
    "    if(x == \"black\"):\n",
    "        break"
   ]
  },
  {
   "cell_type": "code",
   "execution_count": 17,
   "id": "80f79fab",
   "metadata": {},
   "outputs": [
    {
     "name": "stdout",
     "output_type": "stream",
     "text": [
      "white\n",
      "red\n"
     ]
    }
   ],
   "source": [
    "# continue (for loop)\n",
    "\n",
    "colors = [\"white\", \"black\", \"red\"]\n",
    "for x in colors:\n",
    "    if x == \"black\":\n",
    "        continue\n",
    "    print(x)"
   ]
  },
  {
   "cell_type": "code",
   "execution_count": 18,
   "id": "25e666ad",
   "metadata": {},
   "outputs": [
    {
     "name": "stdout",
     "output_type": "stream",
     "text": [
      "0\n",
      "1\n",
      "2\n",
      "3\n",
      "4\n",
      "5\n",
      "6\n",
      "7\n"
     ]
    }
   ],
   "source": [
    "# range function\n",
    "\n",
    "for x in range(8):\n",
    "    print(x)"
   ]
  },
  {
   "cell_type": "code",
   "execution_count": 19,
   "id": "bf74ed33",
   "metadata": {},
   "outputs": [
    {
     "name": "stdout",
     "output_type": "stream",
     "text": [
      "3\n",
      "4\n",
      "5\n",
      "6\n",
      "7\n"
     ]
    }
   ],
   "source": [
    "for x in range(3, 8):\n",
    "    print(x)"
   ]
  },
  {
   "cell_type": "markdown",
   "id": "0aa3fa15",
   "metadata": {},
   "source": [
    "### Python Functions"
   ]
  },
  {
   "cell_type": "code",
   "execution_count": 20,
   "id": "e8e4209c",
   "metadata": {},
   "outputs": [
    {
     "name": "stdout",
     "output_type": "stream",
     "text": [
      "Hello!\n"
     ]
    }
   ],
   "source": [
    "# Creating a Function\n",
    "def my_function():\n",
    "    print(\"Hello!\")\n",
    "    \n",
    "# Calling the function\n",
    "my_function()"
   ]
  },
  {
   "cell_type": "code",
   "execution_count": 21,
   "id": "9c803425",
   "metadata": {},
   "outputs": [
    {
     "name": "stdout",
     "output_type": "stream",
     "text": [
      "Hello, Mayank\n"
     ]
    }
   ],
   "source": [
    "# Arguments\n",
    "\n",
    "def my_function(fname):\n",
    "    print(\"Hello, \" + fname)\n",
    "    \n",
    "my_function(\"Mayank\")"
   ]
  },
  {
   "cell_type": "markdown",
   "id": "245a5832",
   "metadata": {},
   "source": [
    "### Some Basic Python Programs"
   ]
  },
  {
   "cell_type": "code",
   "execution_count": 22,
   "id": "8196cbbd",
   "metadata": {},
   "outputs": [
    {
     "name": "stdout",
     "output_type": "stream",
     "text": [
      "Python 3.8.8\n"
     ]
    }
   ],
   "source": [
    "!python --version"
   ]
  },
  {
   "cell_type": "code",
   "execution_count": 23,
   "id": "c1a60688",
   "metadata": {},
   "outputs": [
    {
     "name": "stdout",
     "output_type": "stream",
     "text": [
      "3.8.8 (default, Apr 13 2021, 15:08:03) [MSC v.1916 64 bit (AMD64)]\n"
     ]
    }
   ],
   "source": [
    "# Display Python version\n",
    "\n",
    "import sys\n",
    "print(sys.version)"
   ]
  },
  {
   "cell_type": "code",
   "execution_count": 24,
   "id": "e39dd33e",
   "metadata": {},
   "outputs": [
    {
     "name": "stdout",
     "output_type": "stream",
     "text": [
      "Current Date and Time: 2022-02-08 09:40:41.638404\n",
      "08-02-2022 09:40:41\n"
     ]
    }
   ],
   "source": [
    "# Display Current Date and Time\n",
    "\n",
    "import datetime\n",
    "\n",
    "now = datetime.datetime.now()\n",
    "print(\"Current Date and Time:\", now)\n",
    "print(now.strftime(\"%d-%m-%Y %H:%M:%S\"))"
   ]
  },
  {
   "cell_type": "code",
   "execution_count": 25,
   "id": "4d6d013b",
   "metadata": {},
   "outputs": [
    {
     "name": "stdout",
     "output_type": "stream",
     "text": [
      "7\n",
      "Radius: 7.0, Area: 153.94\n"
     ]
    }
   ],
   "source": [
    "# Calculate area of circle\n",
    "\n",
    "from math import pi\n",
    "\n",
    "radius = float(input())\n",
    "print(\"Radius: \" + str(radius) + \", Area: {:.2f}\".format(pi * radius ** 2))"
   ]
  },
  {
   "cell_type": "code",
   "execution_count": 26,
   "id": "46d78d77",
   "metadata": {},
   "outputs": [
    {
     "name": "stdout",
     "output_type": "stream",
     "text": [
      "Enter your first name: Mayank\n",
      "Enter your last name: Arora\n",
      "Hi Arora Mayank\n"
     ]
    }
   ],
   "source": [
    "fname = input(\"Enter your first name: \")\n",
    "lname = input(\"Enter your last name: \")\n",
    "print(\"Hi \" + lname + \" \" + fname)"
   ]
  },
  {
   "cell_type": "code",
   "execution_count": 27,
   "id": "b153240f",
   "metadata": {},
   "outputs": [
    {
     "name": "stdout",
     "output_type": "stream",
     "text": [
      "4\n",
      "492\n"
     ]
    }
   ],
   "source": [
    "# Python program that accepts int(n) and computes value n+nn+nnn\n",
    "# 4 + 44 + 444 = 492\n",
    "\n",
    "n = int(input())\n",
    "n1 = int(\"%s\" %n)\n",
    "n2 = int(\"%s%s\" % (n, n))\n",
    "n3 = int(\"%s%s%s\" % (n, n, n))\n",
    "\n",
    "print(n1 + n2 + n3)"
   ]
  },
  {
   "cell_type": "code",
   "execution_count": 28,
   "id": "9b393e18",
   "metadata": {},
   "outputs": [
    {
     "name": "stdout",
     "output_type": "stream",
     "text": [
      "red\n",
      "orange\n"
     ]
    }
   ],
   "source": [
    "# Python program to display first and last colors from list\n",
    "\n",
    "colours = [\"red\", \"black\", \"white\", \"blue\", \"yellow\", \"orange\"]\n",
    "print(colours[0])\n",
    "print(colours[-1])"
   ]
  },
  {
   "cell_type": "code",
   "execution_count": 29,
   "id": "beaad14a",
   "metadata": {},
   "outputs": [
    {
     "name": "stdout",
     "output_type": "stream",
     "text": [
      "2022-02-09\n"
     ]
    }
   ],
   "source": [
    "# Show tomorrows' date\n",
    "\n",
    "from datetime import datetime\n",
    "from dateutil.relativedelta import relativedelta\n",
    "\n",
    "date_today = datetime.now().date()\n",
    "next_date = date_today + relativedelta(days=+1)\n",
    "\n",
    "print(next_date)"
   ]
  },
  {
   "cell_type": "code",
   "execution_count": 30,
   "id": "89a19062",
   "metadata": {},
   "outputs": [
    {
     "name": "stdout",
     "output_type": "stream",
     "text": [
      "1.docx\n",
      "docx\n"
     ]
    }
   ],
   "source": [
    "# Print extension of file\n",
    "\n",
    "file = input()\n",
    "extension = file.split(\".\")\n",
    "print(extension[-1])"
   ]
  },
  {
   "cell_type": "markdown",
   "id": "4db9888a",
   "metadata": {},
   "source": [
    "### Python Functions"
   ]
  },
  {
   "cell_type": "code",
   "execution_count": 35,
   "id": "665e07b6",
   "metadata": {},
   "outputs": [
    {
     "name": "stdout",
     "output_type": "stream",
     "text": [
      "20\n",
      "9.4\n",
      "12.206555615733702\n"
     ]
    }
   ],
   "source": [
    "# abs()\n",
    "\n",
    "# Integer\n",
    "integer = -20\n",
    "print(abs(integer))\n",
    "\n",
    "# Float\n",
    "floating = -9.4\n",
    "print(abs(floating))\n",
    "\n",
    "# Complex\n",
    "cn = 7 + 10j\n",
    "# sqrt(square(7) + square(10))\n",
    "print(abs(cn))"
   ]
  },
  {
   "cell_type": "code",
   "execution_count": 57,
   "id": "d9ba7cde",
   "metadata": {},
   "outputs": [
    {
     "name": "stdout",
     "output_type": "stream",
     "text": [
      "True\n",
      "False\n",
      "False\n",
      "True\n",
      "True\n"
     ]
    }
   ],
   "source": [
    "# all()\n",
    "\n",
    "ls = [1, 2, 3, 4]\n",
    "print(all(ls))\n",
    "\n",
    "ls = [0, False]\n",
    "print(all(ls))\n",
    "\n",
    "ls = [1, 0, 9]\n",
    "print(all(ls))\n",
    "\n",
    "ls = [1, -2, 9]\n",
    "print(all(ls))\n",
    "\n",
    "ls = []\n",
    "print(all(ls))"
   ]
  },
  {
   "cell_type": "code",
   "execution_count": 39,
   "id": "382f13a6",
   "metadata": {},
   "outputs": [
    {
     "name": "stdout",
     "output_type": "stream",
     "text": [
      "0b1010\n"
     ]
    }
   ],
   "source": [
    "# bin()\n",
    "\n",
    "x = 10\n",
    "print(bin(x))"
   ]
  },
  {
   "cell_type": "code",
   "execution_count": 40,
   "id": "f805095f",
   "metadata": {},
   "outputs": [
    {
     "name": "stdout",
     "output_type": "stream",
     "text": [
      "True\n",
      "12\n"
     ]
    }
   ],
   "source": [
    "# exec()\n",
    "\n",
    "x = 8\n",
    "exec('print(x == 8)')\n",
    "exec('print(x + 4)')"
   ]
  },
  {
   "cell_type": "code",
   "execution_count": 41,
   "id": "d25a3645",
   "metadata": {},
   "outputs": [
    {
     "name": "stdout",
     "output_type": "stream",
     "text": [
      "6\n"
     ]
    }
   ],
   "source": [
    "# sum()\n",
    "\n",
    "ls = [1, 2, 3]\n",
    "print(sum(ls))"
   ]
  },
  {
   "cell_type": "code",
   "execution_count": 56,
   "id": "072f496d",
   "metadata": {},
   "outputs": [
    {
     "name": "stdout",
     "output_type": "stream",
     "text": [
      "True\n",
      "False\n",
      "True\n",
      "True\n",
      "False\n"
     ]
    }
   ],
   "source": [
    "# any()\n",
    "\n",
    "ls = [1, 2, 3, 4]\n",
    "print(any(ls))\n",
    "\n",
    "ls = [0, False]\n",
    "print(any(ls))\n",
    "\n",
    "ls = [1, 0, 9]\n",
    "print(any(ls))\n",
    "\n",
    "ls = [1, -2, 9]\n",
    "print(any(ls))\n",
    "\n",
    "ls = []\n",
    "print(any(ls))"
   ]
  },
  {
   "cell_type": "code",
   "execution_count": 65,
   "id": "cde6d839",
   "metadata": {},
   "outputs": [
    {
     "name": "stdout",
     "output_type": "stream",
     "text": [
      "28\n",
      "2.800000\n",
      "11100\n",
      "34\n",
      "1c\n"
     ]
    }
   ],
   "source": [
    "# format()\n",
    "\n",
    "# Integer\n",
    "print(format(28, \"d\"))\n",
    "\n",
    "# Float\n",
    "print(format(2.8, \"f\"))\n",
    "\n",
    "# Binary\n",
    "print(format(28, \"b\"))\n",
    "\n",
    "# Octal\n",
    "print(format(28, \"o\"))\n",
    "\n",
    "print(format(28, \"x\"))"
   ]
  },
  {
   "cell_type": "code",
   "execution_count": 66,
   "id": "877a2352",
   "metadata": {},
   "outputs": [
    {
     "name": "stdout",
     "output_type": "stream",
     "text": [
      "6\n"
     ]
    }
   ],
   "source": [
    "# len()\n",
    "\n",
    "string = \"Mayank\"\n",
    "print(len(string))"
   ]
  },
  {
   "cell_type": "code",
   "execution_count": 75,
   "id": "e13d4ade",
   "metadata": {},
   "outputs": [
    {
     "name": "stdout",
     "output_type": "stream",
     "text": [
      "['M', 'a', 'y', 'a', 'n', 'k']\n",
      "[1, 2, 3, 4, 5, 6]\n"
     ]
    }
   ],
   "source": [
    "# list()\n",
    "\n",
    "# String\n",
    "string = \"Mayank\"\n",
    "print(list(string))\n",
    "\n",
    "# Tuple\n",
    "t = (1, 2, 3, 4, 5, 6)\n",
    "print(list(t))"
   ]
  },
  {
   "cell_type": "code",
   "execution_count": 76,
   "id": "16913ace",
   "metadata": {},
   "outputs": [
    {
     "name": "stdout",
     "output_type": "stream",
     "text": [
      "(5, 0)\n"
     ]
    }
   ],
   "source": [
    "# divmod\n",
    "\n",
    "print(divmod(10, 2))"
   ]
  }
 ],
 "metadata": {
  "kernelspec": {
   "display_name": "Python 3 (ipykernel)",
   "language": "python",
   "name": "python3"
  },
  "language_info": {
   "codemirror_mode": {
    "name": "ipython",
    "version": 3
   },
   "file_extension": ".py",
   "mimetype": "text/x-python",
   "name": "python",
   "nbconvert_exporter": "python",
   "pygments_lexer": "ipython3",
   "version": "3.8.8"
  }
 },
 "nbformat": 4,
 "nbformat_minor": 5
}
